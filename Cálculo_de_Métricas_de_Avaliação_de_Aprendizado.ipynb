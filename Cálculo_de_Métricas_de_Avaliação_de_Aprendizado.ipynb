{
  "nbformat": 4,
  "nbformat_minor": 0,
  "metadata": {
    "colab": {
      "provenance": [],
      "toc_visible": true,
      "authorship_tag": "ABX9TyOntqjDPOkOlv4U7WlepZO4",
      "include_colab_link": true
    },
    "kernelspec": {
      "name": "python3",
      "display_name": "Python 3"
    },
    "language_info": {
      "name": "python"
    }
  },
  "cells": [
    {
      "cell_type": "markdown",
      "metadata": {
        "id": "view-in-github",
        "colab_type": "text"
      },
      "source": [
        "<a href=\"https://colab.research.google.com/github/BrunoSilva-N/Calculo-de-Metricas-de-Avaliacao-de-Aprendizado-/blob/main/C%C3%A1lculo_de_M%C3%A9tricas_de_Avalia%C3%A7%C3%A3o_de_Aprendizado.ipynb\" target=\"_parent\"><img src=\"https://colab.research.google.com/assets/colab-badge.svg\" alt=\"Open In Colab\"/></a>"
      ]
    },
    {
      "cell_type": "code",
      "source": [
        "# Valores da matriz de confusão\n",
        "VP = 50\n",
        "VN = 35\n",
        "FP = 5\n",
        "FN = 10\n",
        "\n",
        "# Função para calcular a acurácia\n",
        "def calcular_acuracia(VP, VN, FP, FN):\n",
        "    return (VP + VN) / (VP + VN + FP + FN)\n",
        "\n",
        "# Função para calcular a sensibilidade\n",
        "def calcular_sensibilidade(VP, FN):\n",
        "    return VP / (VP + FN)\n",
        "\n",
        "# Função para calcular a especificidade\n",
        "def calcular_especificidade(VN, FP):\n",
        "    return VN / (VN + FP)\n",
        "\n",
        "# Função para calcular a precisão\n",
        "def calcular_precisao(VP, FP):\n",
        "    return VP / (VP + FP)\n",
        "\n",
        "# Função para calcular o F-score\n",
        "def calcular_fscore(precisao, sensibilidade):\n",
        "    return 2 * (precisao * sensibilidade) / (precisao + sensibilidade)\n",
        "\n",
        "# Cálculo das métricas\n",
        "acuracia = calcular_acuracia(VP, VN, FP, FN)\n",
        "\n",
        "sensibilidade = calcular_sensibilidade(VP, FN)\n",
        "\n",
        "especificidade = calcular_especificidade(VN, FP)\n",
        "\n",
        "precisao = calcular_precisao(VP, FP)\n",
        "\n",
        "fscore = calcular_fscore(precisao, sensibilidade)\n",
        "\n",
        "# Exibindo os resultados\n",
        "print(f\"Acurácia: {acuracia:.2f}\")\n",
        "print(f\"Sensibilidade : {sensibilidade:.2f}\")\n",
        "print(f\"Especificidade: {especificidade:.2f}\")\n",
        "print(f\"Precisão: {precisao:.2f}\")\n",
        "print(f\"F-score: {fscore:.2f}\")"
      ],
      "metadata": {
        "colab": {
          "base_uri": "https://localhost:8080/"
        },
        "id": "5Iy1heYxsdzU",
        "outputId": "965b3b22-dc2e-40d2-ace3-53de2529ec5b"
      },
      "execution_count": 7,
      "outputs": [
        {
          "output_type": "stream",
          "name": "stdout",
          "text": [
            "Acurácia: 0.85\n",
            "Sensibilidade : 0.83\n",
            "Especificidade: 0.88\n",
            "Precisão: 0.91\n",
            "F-score: 0.87\n"
          ]
        }
      ]
    }
  ]
}